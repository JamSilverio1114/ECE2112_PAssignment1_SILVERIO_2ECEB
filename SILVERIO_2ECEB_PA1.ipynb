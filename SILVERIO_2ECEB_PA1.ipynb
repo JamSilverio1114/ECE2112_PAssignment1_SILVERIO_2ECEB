{
 "cells": [
  {
   "cell_type": "markdown",
   "id": "77069fe3-8c48-406b-b6a8-6aea0f245e73",
   "metadata": {},
   "source": [
    "PROGRAMMING ASSIGNMENT 1"
   ]
  },
  {
   "cell_type": "markdown",
   "id": "1afe581e-02ed-4721-96e3-3f5fba8cbcac",
   "metadata": {},
   "source": [
    "SILVERIO, Jamille Anne | 2ECE-B"
   ]
  },
  {
   "cell_type": "markdown",
   "id": "f41cd3bd-db1d-42d9-acfb-a6e6b1dd87a8",
   "metadata": {},
   "source": [
    "1. ALPHABET SOUP PROBLEM"
   ]
  },
  {
   "cell_type": "code",
   "execution_count": 2,
   "id": "413d0dd5-e61d-44b3-983d-86dbcdafab2a",
   "metadata": {},
   "outputs": [
    {
     "name": "stdout",
     "output_type": "stream",
     "text": [
      "ehllo\n",
      "acehkr\n"
     ]
    }
   ],
   "source": [
    "#DEFINE ALPHABET SOUP\n",
    "def alphabet_soup(word):\n",
    "    \n",
    "    #TAKES THE STRING, ARRANGES IT ALPHABETICALLY, THEN RETURNS THEM BACK INTO A SINGLE STRING\n",
    "    return\"\".join(sorted(word))\n",
    "\n",
    "#PRINTS EXAMPLE OUTPUTS\n",
    "print (alphabet_soup(\"hello\"))\n",
    "print (alphabet_soup(\"hacker\"))"
   ]
  },
  {
   "cell_type": "markdown",
   "id": "ccd39aaa-2135-4671-92ce-c9dcc77054db",
   "metadata": {},
   "source": [
    "2. EMOTICON PROBLEM"
   ]
  },
  {
   "cell_type": "code",
   "execution_count": 12,
   "id": "4aac399a-a894-430f-9fa4-89e0e3438607",
   "metadata": {},
   "outputs": [
    {
     "name": "stdout",
     "output_type": "stream",
     "text": [
      "Make me :)\n",
      "Show me a :D\n",
      "I feel :((\n",
      "I am >:(\n"
     ]
    }
   ],
   "source": [
    "#DEFINE EMOTIFY\n",
    "def emotify(s):\n",
    "\n",
    "    #REPLACES THE FIRST PARAMETER TO THE LAST PARAMETER\n",
    "    s = s.replace(\"smile\", \":)\")\n",
    "    s = s.replace(\"grin\", \":D\")\n",
    "    s = s.replace(\"sad\", \":((\")\n",
    "    s = s.replace(\"mad\", \">:(\")\n",
    "    return s\n",
    "\n",
    "#PRINTS EXAMPLE OUTPUTS\n",
    "print (emotify(\"Make me smile\"))\n",
    "print (emotify(\"Show me a grin\"))\n",
    "print (emotify(\"I feel sad\"))\n",
    "print (emotify(\"I am mad\"))"
   ]
  },
  {
   "cell_type": "markdown",
   "id": "e59be097-c9ed-43c2-92ba-374d0c24b6c9",
   "metadata": {},
   "source": [
    "3. UNPACKING LIST PROBLEM"
   ]
  },
  {
   "cell_type": "code",
   "execution_count": 11,
   "id": "b596890d-bd0b-45a2-a44a-fc0b32156461",
   "metadata": {},
   "outputs": [
    {
     "name": "stdout",
     "output_type": "stream",
     "text": [
      "first: 1 middle: [2, 3, 4, 5] last: 6\n"
     ]
    }
   ],
   "source": [
    "#DEFINE LST\n",
    "lst = [1, 2, 3, 4, 5, 6]\n",
    "\n",
    "#ASSIGNS THE FIRST VALUE OF THE LIST LOCATED AT INDEX 0\n",
    "first = (lst[0])\n",
    "#ASSIGNS THE MIDDLE VALUES OF THE LIST STARTING FROM INDEX 1 UP TO (BUT NOT INCLUDING) -1\n",
    "middle = (lst[1:-1])\n",
    "#ASSIGNS THE LAST VALUE OF THE LIST LOCATED AT INDEX -1\n",
    "last = (lst[-1])\n",
    "\n",
    "#PRINTS EXAMPLE OUTPUTS\n",
    "print (\"first:\", first, \"middle:\", middle, \"last:\", last)"
   ]
  }
 ],
 "metadata": {
  "kernelspec": {
   "display_name": "Python [conda env:base] *",
   "language": "python",
   "name": "conda-base-py"
  },
  "language_info": {
   "codemirror_mode": {
    "name": "ipython",
    "version": 3
   },
   "file_extension": ".py",
   "mimetype": "text/x-python",
   "name": "python",
   "nbconvert_exporter": "python",
   "pygments_lexer": "ipython3",
   "version": "3.13.5"
  }
 },
 "nbformat": 4,
 "nbformat_minor": 5
}
